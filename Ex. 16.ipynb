{
 "cells": [
  {
   "cell_type": "code",
   "execution_count": 1,
   "metadata": {
    "collapsed": true
   },
   "outputs": [],
   "source": [
    "from sys import argv"
   ]
  },
  {
   "cell_type": "code",
   "execution_count": 2,
   "metadata": {
    "collapsed": false
   },
   "outputs": [
    {
     "ename": "ValueError",
     "evalue": "too many values to unpack",
     "output_type": "error",
     "traceback": [
      "\u001b[0;31m---------------------------------------------------------------------------\u001b[0m",
      "\u001b[0;31mValueError\u001b[0m                                Traceback (most recent call last)",
      "\u001b[0;32m<ipython-input-2-fa08ab612325>\u001b[0m in \u001b[0;36m<module>\u001b[0;34m()\u001b[0m\n\u001b[0;32m----> 1\u001b[0;31m \u001b[0mscript\u001b[0m\u001b[1;33m,\u001b[0m \u001b[0mfilename\u001b[0m \u001b[1;33m=\u001b[0m \u001b[0margv\u001b[0m\u001b[1;33m\u001b[0m\u001b[0m\n\u001b[0m\u001b[1;32m      2\u001b[0m \u001b[1;33m\u001b[0m\u001b[0m\n\u001b[1;32m      3\u001b[0m \u001b[1;32mprint\u001b[0m \u001b[1;34m\"We're going to erase %r.\"\u001b[0m \u001b[1;33m%\u001b[0m \u001b[0mfilename\u001b[0m\u001b[1;33m\u001b[0m\u001b[0m\n\u001b[1;32m      4\u001b[0m \u001b[1;32mprint\u001b[0m \u001b[1;34m\"If you don't want that, hit CTRL-C (^C).\"\u001b[0m\u001b[1;33m\u001b[0m\u001b[0m\n\u001b[1;32m      5\u001b[0m \u001b[1;32mprint\u001b[0m \u001b[1;34m\"If you do want that, hit RETURN.\"\u001b[0m\u001b[1;33m\u001b[0m\u001b[0m\n",
      "\u001b[0;31mValueError\u001b[0m: too many values to unpack"
     ]
    }
   ],
   "source": [
    "script, filename = argv\n",
    "\n",
    "print \"We're going to erase %r.\" % filename\n",
    "print \"If you don't want that, hit CTRL-C (^C).\"\n",
    "print \"If you do want that, hit RETURN.\"\n",
    "\n",
    "raw_input(\"?\")\n",
    "\n",
    "print \"Opening the file...\"\n",
    "target = open(filename, 'w')\n",
    "\n",
    "print \"Truncating the file. Goodbye!\"\n",
    "target.truncate()\n",
    "\n",
    "print \"Now I'm going to ask you for three lines.\"\n",
    "\n",
    "line1 = raw_input(\"line 1: \")\n",
    "line2 = raw_input(\"line 2: \")\n",
    "line3 = raw_input(\"line 3: \")\n",
    "\n",
    "print \"I'm going to write these to the file.\"\n",
    "\n",
    "target.write(line1)\n",
    "target.write(\"\\n\")\n",
    "\n",
    "target.write(line2)\n",
    "target.write(\"\\n\")\n",
    "\n",
    "target.write(line3)\n",
    "target.write(\"\\n\")\n",
    "\n",
    "print \"And finally, we close it.\"\n",
    "target.cloase()"
   ]
  },
  {
   "cell_type": "code",
   "execution_count": null,
   "metadata": {
    "collapsed": true
   },
   "outputs": [],
   "source": []
  }
 ],
 "metadata": {
  "kernelspec": {
   "display_name": "Python [default]",
   "language": "python",
   "name": "python2"
  },
  "language_info": {
   "codemirror_mode": {
    "name": "ipython",
    "version": 2
   },
   "file_extension": ".py",
   "mimetype": "text/x-python",
   "name": "python",
   "nbconvert_exporter": "python",
   "pygments_lexer": "ipython2",
   "version": "2.7.12"
  }
 },
 "nbformat": 4,
 "nbformat_minor": 1
}
