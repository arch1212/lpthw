{
 "cells": [
  {
   "cell_type": "markdown",
   "metadata": {},
   "source": [
    "# Ex 18 "
   ]
  },
  {
   "cell_type": "code",
   "execution_count": 4,
   "metadata": {},
   "outputs": [
    {
     "name": "stdout",
     "output_type": "stream",
     "text": [
      "arg1: 'Zed', arg2: 'Shaw'\n",
      "arg1: 'Zed', arg2: 'Shaw'\n",
      "arg1: 'First!'\n",
      "I got nothin'.\n"
     ]
    }
   ],
   "source": [
    "def print_two(*args):\n",
    "    arg1, arg2 = args\n",
    "    print(\"arg1: %r, arg2: %r\" % (arg1, arg2))\n",
    "\n",
    "def print_two_again(arg1, arg2):\n",
    "    print(\"arg1: %r, arg2: %r\" % (arg1, arg2))\n",
    "    \n",
    "def print_one(arg1):\n",
    "    print(\"arg1: %r\" % arg1)\n",
    "def print_none():\n",
    "    print(\"I got nothin'.\")    \n",
    " \n",
    "print_two(\"Zed\",\"Shaw\")\n",
    "print_two_again(\"Zed\",\"Shaw\")\n",
    "print_one(\"First!\")\n",
    "print_none()"
   ]
  },
  {
   "cell_type": "markdown",
   "metadata": {},
   "source": [
    "# Ex 19"
   ]
  },
  {
   "cell_type": "code",
   "execution_count": 2,
   "metadata": {},
   "outputs": [
    {
     "name": "stdout",
     "output_type": "stream",
     "text": [
      "We can just give the function numbers directly:\n",
      "You have 20 cheeses!\n",
      "You have 30 boxes of crackers!\n",
      "Man that's enough for a party!\n",
      "Get a blanket.\n",
      "\n",
      "OR, we can use variables from our script:\n",
      "You have 10 cheeses!\n",
      "You have 50 boxes of crackers!\n",
      "Man that's enough for a party!\n",
      "Get a blanket.\n",
      "\n",
      "We can even do math inside too:\n",
      "You have 30 cheeses!\n",
      "You have 11 boxes of crackers!\n",
      "Man that's enough for a party!\n",
      "Get a blanket.\n",
      "\n",
      "And we can combine the two, variables and math:\n",
      "You have 110 cheeses!\n",
      "You have 1050 boxes of crackers!\n",
      "Man that's enough for a party!\n",
      "Get a blanket.\n",
      "\n"
     ]
    }
   ],
   "source": [
    "def cheese_and_crackers(cheese_count, boxes_of_crackers):\n",
    "    print(\"You have %d cheeses!\" % cheese_count)\n",
    "    print(\"You have %d boxes of crackers!\" % boxes_of_crackers)\n",
    "    print(\"Man that's enough for a party!\")\n",
    "    print(\"Get a blanket.\\n\")\n",
    "    \n",
    "print(\"We can just give the function numbers directly:\")\n",
    "cheese_and_crackers(20, 30)    \n",
    "\n",
    "print(\"OR, we can use variables from our script:\")\n",
    "amount_of_cheese = 10\n",
    "amount_of_crackers = 50\n",
    "\n",
    "cheese_and_crackers(amount_of_cheese, amount_of_crackers)\n",
    "\n",
    "print(\"We can even do math inside too:\")\n",
    "cheese_and_crackers(10 + 20, 5 + 6)\n",
    "\n",
    "print(\"And we can combine the two, variables and math:\")\n",
    "cheese_and_crackers(amount_of_cheese + 100, amount_of_crackers + 1000)"
   ]
  },
  {
   "cell_type": "markdown",
   "metadata": {},
   "source": [
    "# Ex 20"
   ]
  },
  {
   "cell_type": "code",
   "execution_count": 5,
   "metadata": {},
   "outputs": [
    {
     "name": "stdout",
     "output_type": "stream",
     "text": [
      "First let's print the whole file:\n",
      "\n",
      "\n",
      "Now let's rewind, kind of like a tape.\n",
      "Let's print three lines:\n",
      "1 \n",
      "2 \n",
      "3 \n"
     ]
    }
   ],
   "source": [
    "from sys import argv\n",
    "\n",
    "input_file = 'test.txt'\n",
    "\n",
    "def print_all(f):\n",
    "    print(f.read())\n",
    "\n",
    "def rewind(f):\n",
    "    f.seek(0)\n",
    "\n",
    "def print_a_line(line_count, f):\n",
    "    print(line_count, f.readline())\n",
    "\n",
    "current_file = open(input_file)\n",
    "\n",
    "print(\"First let's print the whole file:\\n\")\n",
    "\n",
    "print_all(current_file)\n",
    "\n",
    "print(\"Now let's rewind, kind of like a tape.\")\n",
    "\n",
    "rewind(current_file)\n",
    "\n",
    "print(\"Let's print three lines:\")\n",
    "\n",
    "current_line = 1\n",
    "print_a_line(current_line, current_file)\n",
    "\n",
    "current_line = current_line + 1\n",
    "print_a_line(current_line, current_file)\n",
    "\n",
    "current_line = current_line + 1\n",
    "print_a_line(current_line, current_file)"
   ]
  },
  {
   "cell_type": "markdown",
   "metadata": {},
   "source": [
    "# Ex 21"
   ]
  },
  {
   "cell_type": "code",
   "execution_count": 6,
   "metadata": {},
   "outputs": [
    {
     "name": "stdout",
     "output_type": "stream",
     "text": [
      "Let's do some math with just functions!\n",
      "ADDING 30 + 5\n",
      "SUBTRACTING 78 - 4\n",
      "MULTIPLYING 90 * 2\n",
      "DIVIDING 100 / 2\n",
      "Age: 35, Height: 74, Weight: 180, IQ: 50\n",
      "Here is a puzzle.\n",
      "DIVIDING 50 / 2\n",
      "MULTIPLYING 180 * 25\n",
      "SUBTRACTING 74 - 4500\n",
      "ADDING 35 + -4426\n",
      "That becomes:  -4391.0 Can you do it by hand?\n"
     ]
    }
   ],
   "source": [
    "def add(a, b):\n",
    "    print(\"ADDING %d + %d\" % (a, b))\n",
    "    return a + b\n",
    "\n",
    "def subtract(a, b):\n",
    "    print(\"SUBTRACTING %d - %d\" % (a, b))\n",
    "    return a - b\n",
    "\n",
    "def multiply(a, b):\n",
    "    print(\"MULTIPLYING %d * %d\" % (a, b))\n",
    "    return a * b\n",
    "\n",
    "def divide(a, b):\n",
    "    print(\"DIVIDING %d / %d\" % (a, b))\n",
    "    return a / b\n",
    "\n",
    "print(\"Let's do some math with just functions!\")\n",
    "\n",
    "age = add(30, 5)\n",
    "height = subtract(78,4)\n",
    "weight = multiply(90, 2)\n",
    "iq = divide(100, 2)\n",
    "\n",
    "print(\"Age: %d, Height: %d, Weight: %d, IQ: %d\" % (age, height, weight, iq))\n",
    "\n",
    "# A puzzle for the extra credit, type it in anyway.\n",
    "print(\"Here is a puzzle.\")\n",
    "\n",
    "what = add(age, subtract(height, multiply(weight, divide(iq, 2))))\n",
    "\n",
    "print(\"That becomes: \", what, \"Can you do it by hand?\")"
   ]
  },
  {
   "cell_type": "markdown",
   "metadata": {},
   "source": [
    "# Ex 23"
   ]
  },
  {
   "cell_type": "code",
   "execution_count": 7,
   "metadata": {},
   "outputs": [
    {
     "name": "stdout",
     "output_type": "stream",
     "text": [
      "Let's practice everything.\n",
      "You'd need to know 'bout escapes with \\ that do \n",
      " newlines and \t tabs.\n",
      "--------------\n",
      "\n",
      "\tThe lovely world\n",
      "with logic so firmly planted\n",
      "cannot discern \n",
      " the needs of love\n",
      "nor comprehend passion from intuition\n",
      "and requires an explanation\n",
      "\n",
      "\t\twhere there is none.\n",
      "\n",
      "--------------\n",
      "This should be five: 5\n",
      "With a starting point of: 10000\n",
      "We'd have 5000000 beans, 5000 jars, and 50 crates.\n",
      "We can also do that this way:\n",
      "We'd have 500000 beans, 500 jars, and 5 crates.\n"
     ]
    }
   ],
   "source": [
    "print(\"Let's practice everything.\")\n",
    "print('You\\'d need to know \\'bout escapes with \\\\ that do \\n newlines and \\t tabs.')\n",
    "poem = \"\"\"\n",
    "\\tThe lovely world\n",
    "with logic so firmly planted\n",
    "cannot discern \\n the needs of love\n",
    "nor comprehend passion from intuition\n",
    "and requires an explanation\n",
    "\\n\\t\\twhere there is none.\n",
    "\"\"\"\n",
    "print(\"--------------\")\n",
    "print(poem)\n",
    "print(\"--------------\")\n",
    "\n",
    "five = 10 - 2 + 3 - 6\n",
    "print(\"This should be five: %s\" % five)\n",
    "\n",
    "\n",
    "def secret_formula(started):\n",
    "    jelly_beans = started * 500\n",
    "    jars = jelly_beans / 1000\n",
    "    crates = jars / 100\n",
    "    return jelly_beans, jars, crates\n",
    "\n",
    "start_point = 10000\n",
    "beans, jars, crates = secret_formula(start_point)\n",
    "\n",
    "print(\"With a starting point of: %d\" % start_point)\n",
    "print(\"We'd have %d beans, %d jars, and %d crates.\" % (beans, jars, crates))\n",
    "\n",
    "start_point = start_point / 10\n",
    "\n",
    "print(\"We can also do that this way:\")\n",
    "print(\"We'd have %d beans, %d jars, and %d crates.\" % secret_formula(start_point))"
   ]
  },
  {
   "cell_type": "markdown",
   "metadata": {},
   "source": [
    "# Ex25"
   ]
  },
  {
   "cell_type": "code",
   "execution_count": 8,
   "metadata": {},
   "outputs": [
    {
     "name": "stdout",
     "output_type": "stream",
     "text": [
      "All\n",
      "wait.\n",
      "All\n",
      "who\n"
     ]
    }
   ],
   "source": [
    "def break_words(stuff):\n",
    "    \"\"\"This function will break up words for us.\"\"\"\n",
    "    words = stuff.split(' ')\n",
    "    return words\n",
    "\n",
    "def sort_words(words):\n",
    "    \"\"\"Sorts the words.\"\"\"\n",
    "    return sorted(words)\n",
    "\n",
    "def print_first_word(words):\n",
    "    \"\"\"Prints the first word after popping it off.\"\"\"\n",
    "    word = words.pop(0)\n",
    "    print(word)\n",
    "\n",
    "def print_last_word(words):\n",
    "    \"\"\"Prints the last word after popping it off.\"\"\"\n",
    "    word = words.pop(-1)\n",
    "    print(word)\n",
    "\n",
    "def sort_sentence(sentence):\n",
    "    \"\"\"Takes in a full sentence and returns the sorted words.\"\"\"\n",
    "    words = break_words(sentence)\n",
    "    return sort_words(words)\n",
    "\n",
    "def print_first_and_last(sentence):\n",
    "    \"\"\"Prints the first and last words of the sentence.\"\"\"\n",
    "    words = break_words(sentence)\n",
    "    print_first_word(words)\n",
    "    print_last_word(words)\n",
    "\n",
    "def print_first_and_last_sorted(sentence):\n",
    "    \"\"\"Sorts the words then prints the first and last one.\"\"\"\n",
    "    words = sort_sentence(sentence)\n",
    "    print_first_word(words)\n",
    "    print_last_word(words)\n",
    "    \n",
    "sentence = \"All good things come to those who wait.\"\n",
    "words = break_words(sentence)\n",
    "words\n",
    "\n",
    "sorted_words = sort_words(words)\n",
    "sorted_words\n",
    "\n",
    "print_first_word(words)\n",
    "print_last_word(words)\n",
    "\n",
    "sorted_words\n",
    "\n",
    "sorted_words = sort_sentence(sentence)\n",
    "sorted_words\n",
    "\n",
    "print_first_and_last_sorted(sentence)"
   ]
  },
  {
   "cell_type": "markdown",
   "metadata": {},
   "source": [
    "# Ex 26"
   ]
  },
  {
   "cell_type": "code",
   "execution_count": 9,
   "metadata": {},
   "outputs": [
    {
     "data": {
      "text/plain": [
       "'Just a test'"
      ]
     },
     "execution_count": 9,
     "metadata": {},
     "output_type": "execute_result"
    }
   ],
   "source": [
    "'Just a test'"
   ]
  },
  {
   "cell_type": "markdown",
   "metadata": {},
   "source": [
    "# Ex 27"
   ]
  },
  {
   "cell_type": "code",
   "execution_count": 10,
   "metadata": {},
   "outputs": [
    {
     "name": "stdout",
     "output_type": "stream",
     "text": [
      "and\n",
      "or\n",
      "not\n",
      "!= (not equal)\n",
      "== (equal)\n",
      ">= (greater-than-equal)\n",
      "<= (less-than-equal)\n",
      "True\n",
      "False\n"
     ]
    }
   ],
   "source": [
    "print(\"\"\"and\n",
    "or\n",
    "not\n",
    "!= (not equal)\n",
    "== (equal)\n",
    ">= (greater-than-equal)\n",
    "<= (less-than-equal)\n",
    "True\n",
    "False\"\"\")"
   ]
  },
  {
   "cell_type": "markdown",
   "metadata": {},
   "source": [
    "# Ex 28"
   ]
  },
  {
   "cell_type": "code",
   "execution_count": 11,
   "metadata": {},
   "outputs": [
    {
     "name": "stdout",
     "output_type": "stream",
     "text": [
      "True\n",
      "False\n",
      "False\n",
      "False\n"
     ]
    }
   ],
   "source": [
    "print(not (True and False))\n",
    "print(not (1 == 1 and 0 != 1))\n",
    "print(not (10 == 1 or 1000 == 1000))\n",
    "print(not (1 != 10 or 3 == 4))"
   ]
  },
  {
   "cell_type": "markdown",
   "metadata": {},
   "source": [
    "# Ex 29"
   ]
  },
  {
   "cell_type": "code",
   "execution_count": 12,
   "metadata": {},
   "outputs": [
    {
     "name": "stdout",
     "output_type": "stream",
     "text": [
      "Too many cats! The world is doomed!\n",
      "The world is dry!\n",
      "People are greater than equal to dogs.\n",
      "People are less than equal to dogs.\n",
      "People are dogs.\n"
     ]
    }
   ],
   "source": [
    "people = 20\n",
    "cats = 30\n",
    "dogs = 15\n",
    "\n",
    "if people < cats :\n",
    "    print(\"Too many cats! The world is doomed!\")\n",
    "if people > cats :\n",
    "    print(\"Not many cats! The world is saved!\")\n",
    "    \n",
    "if people < dogs :\n",
    "    print(\"The world is drooled on!\")    \n",
    "    \n",
    "if people > dogs :\n",
    "    print(\"The world is dry!\")   \n",
    "    \n",
    "dogs += 5    \n",
    "\n",
    "if people >= dogs :\n",
    "    print(\"People are greater than equal to dogs.\")\n",
    "if people <= dogs :\n",
    "    print(\"People are less than equal to dogs.\")\n",
    " \n",
    "if people == dogs :\n",
    "    print(\"People are dogs.\")"
   ]
  },
  {
   "cell_type": "markdown",
   "metadata": {},
   "source": [
    "# Ex 30"
   ]
  },
  {
   "cell_type": "code",
   "execution_count": 13,
   "metadata": {},
   "outputs": [
    {
     "name": "stdout",
     "output_type": "stream",
     "text": [
      "We should take the cars.\n",
      "Maybe we could take the buses.\n",
      "Alright, let's just take the buses.\n"
     ]
    }
   ],
   "source": [
    "people = 30\n",
    "cars = 40\n",
    "buses = 15\n",
    "\n",
    "\n",
    "if cars > people:\n",
    "    print(\"We should take the cars.\")\n",
    "elif cars < people:\n",
    "    print(\"We should not take the cars.\")\n",
    "else:\n",
    "    print(\"We can't decide.\")\n",
    "\n",
    "if buses > cars:\n",
    "    print(\"That's too many buses.\")\n",
    "elif buses < cars:\n",
    "    print(\"Maybe we could take the buses.\")\n",
    "else:\n",
    "    print(\"We still can't decide.\")\n",
    "\n",
    "if people > buses:\n",
    "    print(\"Alright, let's just take the buses.\")\n",
    "else:\n",
    "    print(\"Fine, let's stay home then.\")"
   ]
  },
  {
   "cell_type": "markdown",
   "metadata": {},
   "source": [
    "# Ex 31"
   ]
  },
  {
   "cell_type": "code",
   "execution_count": 14,
   "metadata": {},
   "outputs": [
    {
     "name": "stdout",
     "output_type": "stream",
     "text": [
      "You enter a dark room with two doors. Do you go through door #1 or door #2?\n",
      "> 1\n",
      "There's a giant bear here eating a cheese cake. What do you do?\n",
      "1. Take the cake.\n",
      "2. Scream at the bear.\n",
      "> 2\n",
      "The bear eats your legs off. Good job!\n"
     ]
    }
   ],
   "source": [
    "print(\"You enter a dark room with two doors. Do you go through door #1 or door #2?\")\n",
    "door = input(\"> \")\n",
    "if door == \"1\":\n",
    "    print(\"There's a giant bear here eating a cheese cake. What do you do?\")\n",
    "    print(\"1. Take the cake.\")\n",
    "    print(\"2. Scream at the bear.\")\n",
    "     \n",
    "    bear = input(\"> \")\n",
    "    if bear == \"1\":\n",
    "        print(\"The bear eats your face off. Good job!\")\n",
    "    elif bear == \"2\":\n",
    "        print(\"The bear eats your legs off. Good job!\")\n",
    "    else:\n",
    "        print(\"Well, doing %s is probably better. Bear runs away.\" % bear)\n",
    "        \n",
    "elif door == \"2\":\n",
    "    print(\"You stare into the endless abyss at Cthuhlu's retina.\")\n",
    "    print(\"1. Blueberries.\")\n",
    "    print(\"2. Yellow jacket clothespins.\")\n",
    "    print(\"3. Understanding revolvers yelling melodies.\")\n",
    "    insanity = input(\"> \")\n",
    "\n",
    "    if insanity == \"1\" or insanity == \"2\":\n",
    "        print(\"Your body survives powered by a mind of jello. Good job!\")\n",
    "    else:\n",
    "        print(\"The insanity rots your eyes into a pool of muck. Good job!\")\n",
    "\n",
    "else:\n",
    "    print(\"You stumble around and fall on a knife and die. Good job!\") "
   ]
  },
  {
   "cell_type": "markdown",
   "metadata": {},
   "source": [
    "# Ex 32"
   ]
  },
  {
   "cell_type": "code",
   "execution_count": 15,
   "metadata": {},
   "outputs": [
    {
     "name": "stdout",
     "output_type": "stream",
     "text": [
      "This is count 1\n",
      "This is count 2\n",
      "This is count 3\n",
      "This is count 4\n",
      "This is count 5\n",
      "A fruit of type: apples\n",
      "A fruit of type: oranges\n",
      "A fruit of type: pears\n",
      "A fruit of type: apricots\n",
      "I got 1\n",
      "I got 'pennies'\n",
      "I got 2\n",
      "I got 'dimes'\n",
      "I got 3\n",
      "I got 'quarters'\n",
      "Adding 0 to the list.\n",
      "Adding 1 to the list.\n",
      "Adding 2 to the list.\n",
      "Adding 3 to the list.\n",
      "Adding 4 to the list.\n",
      "Adding 5 to the list.\n",
      "Element was: 5\n"
     ]
    }
   ],
   "source": [
    "the_count = [1, 2, 3, 4, 5]\n",
    "fruits = ['apples', 'oranges', 'pears', 'apricots']\n",
    "change = [1, 'pennies', 2, 'dimes', 3, 'quarters']\n",
    "\n",
    "for number in the_count:\n",
    "    print(\"This is count %d\" % number)\n",
    "\n",
    "# same as above\n",
    "for fruit in fruits:\n",
    "    print(\"A fruit of type: %s\" % fruit)\n",
    "\n",
    "# also we can go through mixed lists too\n",
    "# notice we have to use %r since we don't know what's in it\n",
    "for i in change:\n",
    "    print(\"I got %r\" % i)\n",
    "    \n",
    "elements = []\n",
    "\n",
    "# then use the range function to do 0 to 20 counts\n",
    "for i in range(0, 6):\n",
    "    print(\"Adding %d to the list.\" % i)\n",
    "# append is a function that lists understand\n",
    "elements.append(i)\n",
    "\n",
    "# now we can print them out too\n",
    "for i in elements:\n",
    "    print(\"Element was: %d\" % i)"
   ]
  },
  {
   "cell_type": "markdown",
   "metadata": {},
   "source": [
    "# Ex 33"
   ]
  },
  {
   "cell_type": "code",
   "execution_count": 16,
   "metadata": {},
   "outputs": [
    {
     "name": "stdout",
     "output_type": "stream",
     "text": [
      "At the top i is 0\n",
      "Numbers now:  [0]\n",
      "At the bottom i is 1\n",
      "At the top i is 1\n",
      "Numbers now:  [0, 1]\n",
      "At the bottom i is 2\n",
      "At the top i is 2\n",
      "Numbers now:  [0, 1, 2]\n",
      "At the bottom i is 3\n",
      "At the top i is 3\n",
      "Numbers now:  [0, 1, 2, 3]\n",
      "At the bottom i is 4\n",
      "At the top i is 4\n",
      "Numbers now:  [0, 1, 2, 3, 4]\n",
      "At the bottom i is 5\n",
      "At the top i is 5\n",
      "Numbers now:  [0, 1, 2, 3, 4, 5]\n",
      "At the bottom i is 6\n",
      "The numbers: \n",
      "0\n",
      "1\n",
      "2\n",
      "3\n",
      "4\n",
      "5\n"
     ]
    }
   ],
   "source": [
    "i = 0\n",
    "numbers = []\n",
    "\n",
    "while i < 6:\n",
    "    print(\"At the top i is %d\" % i)\n",
    "    numbers.append(i)\n",
    "    i = i + 1\n",
    "    print(\"Numbers now: \", numbers)\n",
    "    print(\"At the bottom i is %d\" % i)\n",
    "\n",
    "\n",
    "print(\"The numbers: \")\n",
    "\n",
    "for num in numbers:\n",
    "    print(num)"
   ]
  },
  {
   "cell_type": "markdown",
   "metadata": {},
   "source": [
    "# Ex 34"
   ]
  },
  {
   "cell_type": "code",
   "execution_count": 17,
   "metadata": {},
   "outputs": [
    {
     "name": "stdout",
     "output_type": "stream",
     "text": [
      "bear python whale\n"
     ]
    }
   ],
   "source": [
    "animals = ['bear', 'python', 'peacock', 'kangaroo', 'whale', 'platypus']\n",
    "bear = animals[0]\n",
    "pyhton = animals[1]\n",
    "whale  = animals[-2]\n",
    "print(bear,pyhton,whale)"
   ]
  },
  {
   "cell_type": "markdown",
   "metadata": {},
   "source": [
    "# Ex 35"
   ]
  },
  {
   "cell_type": "code",
   "execution_count": 18,
   "metadata": {},
   "outputs": [
    {
     "name": "stdout",
     "output_type": "stream",
     "text": [
      "You are in a dark room.\n",
      "There is a door to your right and left.\n",
      "Which one do you take?\n",
      "> left\n",
      "There is a bear here.\n",
      "The bear has a bunch of honey.\n",
      "The fat bear is in front of another door.\n",
      "How are you going to move the bear?\n",
      "> take honey\n",
      "The bear looks at you then pimp slaps your face off. Good job!\n"
     ]
    },
    {
     "ename": "SystemExit",
     "evalue": "0",
     "output_type": "error",
     "traceback": [
      "An exception has occurred, use %tb to see the full traceback.\n",
      "\u001b[1;31mSystemExit\u001b[0m\u001b[1;31m:\u001b[0m 0\n"
     ]
    },
    {
     "name": "stderr",
     "output_type": "stream",
     "text": [
      "G:\\Installations\\an3\\lib\\site-packages\\IPython\\core\\interactiveshell.py:2889: UserWarning: To exit: use 'exit', 'quit', or Ctrl-D.\n",
      "  warn(\"To exit: use 'exit', 'quit', or Ctrl-D.\", stacklevel=1)\n"
     ]
    }
   ],
   "source": [
    "from sys import exit\n",
    "\n",
    "def gold_room():\n",
    "    print(\"This room is full of gold. How much do you take?\")\n",
    "    next = input(\"> \")\n",
    "    if \"0\" in next or \"1\" in next:\n",
    "        how_much = int(next)\n",
    "    else:\n",
    "        dead(\"Man, learn to type a number.\")\n",
    "    if how_much < 50:\n",
    "        print(\"Nice, you're not greedy, you win!\")\n",
    "        exit(0)\n",
    "    else:\n",
    "        dead(\"You greedy bastard!\")\n",
    "        \n",
    "def bear_room():\n",
    "    print(\"There is a bear here.\")\n",
    "    print(\"The bear has a bunch of honey.\")\n",
    "    print(\"The fat bear is in front of another door.\")\n",
    "    print(\"How are you going to move the bear?\")\n",
    "    bear_moved = False\n",
    "    \n",
    "    while True:\n",
    "        next = input(\"> \")\n",
    "        if next == \"take honey\":\n",
    "            dead(\"The bear looks at you then pimp slaps your face off.\")\n",
    "        elif next == \"taunt bear\" and not bear_moved:\n",
    "            print(\"The bear has moved from the door. You can go through it now.\")\n",
    "            bear_moved = True\n",
    "        elif next == \"taunt bear\" and bear_moved:\n",
    "            dead(\"The bear gets pissed off and chews your crotch off.\")\n",
    "        elif next == \"open door\" and bear_moved:\n",
    "            gold_room()\n",
    "        else:\n",
    "            print(\"I got no idea what that means.\")        \n",
    "        \n",
    "def cthulu_room():\n",
    "    print(\"Here you see the great evil Cthulu.\")   \n",
    "    print(\"He, it, whatever stares at you and you go insane.\")\n",
    "    print(\"Do you flee for your life or eat your head?\")\n",
    "    next = input(\"> \")\n",
    "    if \"flee\" in next:\n",
    "        start()\n",
    "    elif \"head\" in next:\n",
    "        dead(\"Well that was tasty!\")\n",
    "    else:\n",
    "        cthulu_room()\n",
    " \n",
    "def dead(why):\n",
    "    print(why, \"Good job!\")\n",
    "    exit(0)\n",
    "    \n",
    "def start():\n",
    "    print(\"You are in a dark room.\")\n",
    "    print(\"There is a door to your right and left.\")\n",
    "    print(\"Which one do you take?\")\n",
    "    next = input(\"> \")\n",
    "    if next == \"left\":\n",
    "        bear_room()\n",
    "    elif next == \"right\":\n",
    "        cthulu_room()\n",
    "    else:\n",
    "        dead(\"You stumble around the room until you starve.\")\n",
    "        \n",
    "start()        "
   ]
  }
 ],
 "metadata": {
  "kernelspec": {
   "display_name": "Python [conda root]",
   "language": "python",
   "name": "conda-root-py"
  },
  "language_info": {
   "codemirror_mode": {
    "name": "ipython",
    "version": 3
   },
   "file_extension": ".py",
   "mimetype": "text/x-python",
   "name": "python",
   "nbconvert_exporter": "python",
   "pygments_lexer": "ipython3",
   "version": "3.5.3"
  }
 },
 "nbformat": 4,
 "nbformat_minor": 2
}
